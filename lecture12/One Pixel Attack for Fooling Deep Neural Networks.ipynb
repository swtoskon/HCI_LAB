{
 "cells": [
  {
   "cell_type": "markdown",
   "metadata": {},
   "source": [
    "# One Pixel Attack for Fooling Deep Neural Networks\n",
    "An implementation of the procedure described in https://arxiv.org/abs/1710.08864."
   ]
  },
  {
   "cell_type": "markdown",
   "metadata": {},
   "source": [
    "## Setup"
   ]
  },
  {
   "cell_type": "code",
   "execution_count": 1,
   "metadata": {},
   "outputs": [],
   "source": [
    "%matplotlib inline\n",
    "import matplotlib.pyplot as plt\n",
    "import numpy as np\n",
    "import seaborn as sns\n",
    "import torch\n",
    "import torch.nn as nn\n",
    "import torch.nn.functional as F\n",
    "import torch.optim as optim\n",
    "\n",
    "from pathlib import Path\n",
    "from tensorboardX import SummaryWriter\n",
    "from torchvision import datasets, transforms, models\n",
    "from tqdm import tqdm\n",
    "\n",
    "writer = SummaryWriter()\n",
    "sns.set()\n",
    "sns.set_style(\"dark\")\n",
    "sns.set_palette(\"muted\")\n",
    "sns.set_color_codes(\"muted\")"
   ]
  },
  {
   "cell_type": "markdown",
   "metadata": {},
   "source": [
    "### CUDA"
   ]
  },
  {
   "cell_type": "code",
   "execution_count": 2,
   "metadata": {},
   "outputs": [
    {
     "name": "stdout",
     "output_type": "stream",
     "text": [
      "CUDA Available: True\n"
     ]
    }
   ],
   "source": [
    "DEVICE = torch.device(\"cuda\" if torch.cuda.is_available() else \"cpu\")\n",
    "LOADER_KWARGS = {'num_workers': 1, 'pin_memory': True} if torch.cuda.is_available() else {'num_workers': 4}\n",
    "print(\"CUDA Available:\", torch.cuda.is_available())"
   ]
  },
  {
   "cell_type": "markdown",
   "metadata": {},
   "source": [
    "## Train CIFAR VGG16 Model"
   ]
  },
  {
   "cell_type": "markdown",
   "metadata": {},
   "source": [
    "### Model Definition"
   ]
  },
  {
   "cell_type": "code",
   "execution_count": 3,
   "metadata": {},
   "outputs": [],
   "source": [
    "cifar_model = models.vgg16(pretrained=True, init_weights=False)\n",
    "cifar_model.classifier = nn.Sequential(\n",
    "        nn.Linear(512, 2048),\n",
    "        nn.ReLU(True),\n",
    "        nn.Dropout(),\n",
    "        nn.Linear(2048, 2048),\n",
    "        nn.ReLU(True),\n",
    "        nn.Dropout(),\n",
    "        nn.Linear(2048, 10),\n",
    "    )\n",
    "cifar_model = cifar_model.to(DEVICE)"
   ]
  },
  {
   "cell_type": "markdown",
   "metadata": {},
   "source": [
    "### Dataloading"
   ]
  },
  {
   "cell_type": "code",
   "execution_count": 4,
   "metadata": {},
   "outputs": [
    {
     "name": "stdout",
     "output_type": "stream",
     "text": [
      "Files already downloaded and verified\n",
      "Files already downloaded and verified\n",
      "Files already downloaded and verified\n"
     ]
    }
   ],
   "source": [
    "BATCH_SIZE = 128\n",
    "TRAIN_COUNT = 40_000\n",
    "VAL_COUNT = 10_000\n",
    "TEST_COUNT = 10_000\n",
    "\n",
    "train_transform = transforms.Compose([\n",
    "    transforms.RandomHorizontalFlip(),\n",
    "    transforms.ToTensor(),\n",
    "])\n",
    "\n",
    "test_transform = transforms.ToTensor()\n",
    "\n",
    "train_set = datasets.CIFAR10(root='./data', train=True, download=True, transform=train_transform)\n",
    "train_set = torch.utils.data.dataset.Subset(train_set, range(0,TRAIN_COUNT))\n",
    "train_loader = torch.utils.data.DataLoader(train_set, batch_size=BATCH_SIZE, shuffle=True, **LOADER_KWARGS)\n",
    "\n",
    "val_set = datasets.CIFAR10(root='./data', train=True, download=True, transform=test_transform)\n",
    "val_set = torch.utils.data.dataset.Subset(val_set, range(TRAIN_COUNT,TRAIN_COUNT+VAL_COUNT))\n",
    "val_loader = torch.utils.data.DataLoader(val_set, batch_size=BATCH_SIZE, shuffle=False, **LOADER_KWARGS)\n",
    "\n",
    "test_set = datasets.CIFAR10(root='./data', train=False, download=True, transform=test_transform)\n",
    "test_loader = torch.utils.data.DataLoader(test_set, batch_size=BATCH_SIZE, shuffle=False, **LOADER_KWARGS)"
   ]
  },
  {
   "cell_type": "markdown",
   "metadata": {},
   "source": [
    "### Test and Validation Function"
   ]
  },
  {
   "cell_type": "code",
   "execution_count": 5,
   "metadata": {},
   "outputs": [],
   "source": [
    "def test(epoch=None, is_validation=False):\n",
    "    cifar_model.eval()\n",
    "    loader = val_loader if is_validation else test_loader\n",
    "    test_loss = 0\n",
    "    test_correct = 0\n",
    "    with torch.no_grad():\n",
    "        for batch_idx, (inputs, targets) in enumerate(loader):\n",
    "            inputs, targets = inputs.to(DEVICE), targets.to(DEVICE)\n",
    "            outputs = cifar_model(inputs)\n",
    "            test_loss += F.cross_entropy(outputs, targets, size_average=False).item()\n",
    "            test_correct += outputs.max(1)[1].eq(targets).sum().item()\n",
    "    if is_validation:\n",
    "        writer.add_scalar('logs/val_loss', test_loss/len(loader.dataset), epoch)\n",
    "        writer.add_scalar('logs/val_acc', test_correct/len(loader.dataset), epoch)\n",
    "    else:\n",
    "        print(\"Test Accuracy: {}/{}\".format(test_correct, len(loader.dataset)))"
   ]
  },
  {
   "cell_type": "markdown",
   "metadata": {},
   "source": [
    "### Train Function"
   ]
  },
  {
   "cell_type": "code",
   "execution_count": 6,
   "metadata": {},
   "outputs": [],
   "source": [
    "#optimizer = optim.Adam(cifar_model.classifier.parameters())\n",
    "optimizer = optim.Adam(cifar_model.parameters())\n",
    "\n",
    "# Training\n",
    "def train(epoch):\n",
    "    cifar_model.train()\n",
    "    epoch_loss = 0\n",
    "    epoch_correct = 0\n",
    "    for batch_idx, (inputs, targets) in enumerate(tqdm(train_loader)):\n",
    "        inputs, targets = inputs.to(DEVICE), targets.to(DEVICE)\n",
    "        optimizer.zero_grad()\n",
    "        outputs = cifar_model(inputs)\n",
    "        loss = F.cross_entropy(outputs, targets)\n",
    "        loss.backward()\n",
    "        optimizer.step()\n",
    "        batch_correct = outputs.max(1)[1].eq(targets).sum().item()\n",
    "        epoch_loss += loss.item()\n",
    "        epoch_correct += batch_correct\n",
    "        writer.add_scalar('logs/train_loss', loss.item(), epoch*len(train_loader) + batch_idx)\n",
    "        writer.add_scalar('logs/train_acc', batch_correct / targets.size(0), epoch*len(train_loader) + batch_idx)\n",
    "    test(epoch, is_validation=True)"
   ]
  },
  {
   "cell_type": "markdown",
   "metadata": {},
   "source": [
    "### Train Model and Store Weights (or Load Weights)"
   ]
  },
  {
   "cell_type": "code",
   "execution_count": 7,
   "metadata": {},
   "outputs": [
    {
     "name": "stdout",
     "output_type": "stream",
     "text": [
      "Loaded weights from file: vgg_cifar_weights.pt\n"
     ]
    }
   ],
   "source": [
    "TRAIN_EPOCHS = 20\n",
    "WEIGHTS_PATH = Path(\"./vgg_cifar_weights.pt\")\n",
    "\n",
    "if WEIGHTS_PATH.is_file():\n",
    "    cifar_model.load_state_dict(torch.load(WEIGHTS_PATH))\n",
    "    print(\"Loaded weights from file:\", WEIGHTS_PATH)\n",
    "else:\n",
    "    for epoch in range(TRAIN_EPOCHS):\n",
    "        train(epoch)\n",
    "    torch.save(cifar_model.state_dict(), WEIGHTS_PATH)"
   ]
  },
  {
   "cell_type": "markdown",
   "metadata": {},
   "source": [
    "### Test Model Accuracy"
   ]
  },
  {
   "cell_type": "code",
   "execution_count": 8,
   "metadata": {},
   "outputs": [
    {
     "name": "stdout",
     "output_type": "stream",
     "text": [
      "Test Accuracy: 8367/10000\n"
     ]
    }
   ],
   "source": [
    "test()"
   ]
  },
  {
   "cell_type": "markdown",
   "metadata": {},
   "source": [
    "## Attack CIFAR Model"
   ]
  },
  {
   "cell_type": "code",
   "execution_count": 9,
   "metadata": {},
   "outputs": [],
   "source": [
    "CIFAR_LABELS = ('airplane', 'automobile', 'bird', 'cat', 'deer', 'dog', 'frog', 'horse', 'ship', 'truck')\n",
    "\n",
    "def show(img):\n",
    "    npimg = img.cpu().numpy()\n",
    "    plt.imshow(np.transpose(npimg, (1,2,0)), interpolation='nearest')\n",
    "\n",
    "def tell(img, label, model, target_label=None):\n",
    "    print(\"True Label:\", CIFAR_LABELS[label], label)\n",
    "    print(\"Prediction:\", CIFAR_LABELS[model(img.unsqueeze(0)).max(-1)[1]], model(img.unsqueeze(0)).max(-1)[1][0].item())\n",
    "    print(\"Label Probabilities:\", F.softmax(model(img.unsqueeze(0)).squeeze(), dim=0))\n",
    "    print(\"True Label Probability:\", F.softmax(model(img.unsqueeze(0)).squeeze(), dim=0)[label].item())\n",
    "    if target_label is not None:\n",
    "        print(\"Target Label Probability:\", F.softmax(model(img.unsqueeze(0)).squeeze(), dim=0)[target_label].item())"
   ]
  },
  {
   "cell_type": "markdown",
   "metadata": {},
   "source": [
    "### Prediction"
   ]
  },
  {
   "cell_type": "code",
   "execution_count": 10,
   "metadata": {},
   "outputs": [
    {
     "name": "stdout",
     "output_type": "stream",
     "text": [
      "True Label: deer 4\n",
      "Prediction: deer 4\n",
      "Label Probabilities: tensor([ 6.9542e-04,  1.7839e-07,  6.7065e-03,  1.1120e-03,  9.8898e-01,\n",
      "         9.7548e-04,  3.2448e-04,  1.1802e-03,  2.2561e-05,  4.2786e-06], device='cuda:0')\n",
      "True Label Probability: 0.9889790415763855\n"
     ]
    },
    {
     "data": {
      "image/png": "[encoded data removed]",
      "text/plain": [
       "<Figure size 432x288 with 1 Axes>"
      ]
     },
     "metadata": {},
     "output_type": "display_data"
    }
   ],
   "source": [
    "test_img, test_label = test_set[500]\n",
    "test_img = test_img.to(DEVICE)\n",
    "show(test_img)\n",
    "tell(test_img, test_label, cifar_model)"
   ]
  },
  {
   "cell_type": "markdown",
   "metadata": {},
   "source": [
    "### Perturbation"
   ]
  },
  {
   "cell_type": "code",
   "execution_count": 11,
   "metadata": {},
   "outputs": [
    {
     "name": "stdout",
     "output_type": "stream",
     "text": [
      "Perturbation: [0.6  0.6  0.   0.   0.75]\n",
      "True Label: deer 4\n",
      "Prediction: deer 4\n",
      "Label Probabilities: tensor([ 0.0110,  0.0000,  0.0310,  0.0144,  0.9040,  0.0121,  0.0024,\n",
      "         0.0238,  0.0010,  0.0003], device='cuda:0')\n",
      "True Label Probability: 0.9039613008499146\n"
     ]
    },
    {
     "data": {
      "image/png": "[encoded data removed]",
      "text/plain": [
       "<Figure size 432x288 with 1 Axes>"
      ]
     },
     "metadata": {},
     "output_type": "display_data"
    }
   ],
   "source": [
    "def perturb(p, img):\n",
    "    # Elements of p should be in range [0,1]\n",
    "    img_size = img.size(1) # C x _H_ x W, assume H == W\n",
    "    p_img = img.clone()\n",
    "    xy = (p[0:2].copy() * img_size).astype(int)\n",
    "    xy = np.clip(xy, 0, img_size-1)\n",
    "    rgb = p[2:5].copy()\n",
    "    rgb = np.clip(rgb, 0, 1)\n",
    "    p_img[:,xy[0],xy[1]] = torch.from_numpy(rgb)\n",
    "    return p_img\n",
    "\n",
    "def visualize_perturbation(p, img, label, model, target_label=None):\n",
    "    p_img = perturb(p, img)\n",
    "    print(\"Perturbation:\", p)\n",
    "    show(p_img)\n",
    "    tell(p_img, label, model, target_label)\n",
    "\n",
    "visualize_perturbation(np.array([0.6,0.6,0,0,0.75]), test_img, test_label, cifar_model)"
   ]
  },
  {
   "cell_type": "markdown",
   "metadata": {},
   "source": [
    "### Untargeted and Targeted Attacks"
   ]
  },
  {
   "cell_type": "code",
   "execution_count": 12,
   "metadata": {},
   "outputs": [
    {
     "name": "stdout",
     "output_type": "stream",
     "text": [
      "Target Probability [Iteration 0]: 0.07953545451164246\n",
      "Target Probability [Iteration 10]: 0.07832543551921844\n",
      "Target Probability [Iteration 20]: 0.0675034150481224\n",
      "Perturbation: [0.53183933 0.21057478 0.01611458 0.00150763 0.36948785]\n",
      "True Label: deer 4\n",
      "Prediction: bird 2\n",
      "Label Probabilities: tensor([ 0.0074,  0.0001,  0.8440,  0.0477,  0.0345,  0.0466,  0.0119,\n",
      "         0.0070,  0.0003,  0.0003], device='cuda:0')\n",
      "True Label Probability: 0.03452445566654205\n"
     ]
    },
    {
     "data": {
      "image/png": "[encoded data removed]",
      "text/plain": [
       "<Figure size 432x288 with 1 Axes>"
      ]
     },
     "metadata": {},
     "output_type": "display_data"
    }
   ],
   "source": [
    "def evaluate(candidates, img, label, model):\n",
    "    preds = []\n",
    "    model.eval()\n",
    "    with torch.no_grad():\n",
    "        for i, xs in enumerate(candidates):\n",
    "            p_img = perturb(xs, img)\n",
    "            preds.append(F.softmax(model(p_img.unsqueeze(0)).squeeze(), dim=0)[label].item())\n",
    "    return np.array(preds)\n",
    "\n",
    "def evolve(candidates, F=0.5, strategy=\"clip\"):\n",
    "    gen2 = candidates.copy()\n",
    "    num_candidates = len(candidates)\n",
    "    for i in range(num_candidates):\n",
    "        x1, x2, x3 = candidates[np.random.choice(num_candidates, 3, replace=False)]\n",
    "        x_next = (x1 + F*(x2 - x3))\n",
    "        if strategy == \"clip\":\n",
    "            gen2[i] = np.clip(x_next, 0, 1)\n",
    "        elif strategy == \"resample\":\n",
    "            x_oob = np.logical_or((x_next < 0), (1 < x_next))\n",
    "            x_next[x_oob] = np.random.random(5)[x_oob]\n",
    "            gen2[i] = x_next\n",
    "    return gen2\n",
    "\n",
    "def attack(model, img, true_label, target_label=None, iters=100, pop_size=400, verbose=True):\n",
    "    # Targeted: maximize target_label if given (early stop > 50%)\n",
    "    # Untargeted: minimize true_label otherwise (early stop < 5%)\n",
    "    candidates = np.random.random((pop_size,5))\n",
    "    candidates[:,2:5] = np.clip(np.random.normal(0.5, 0.5, (pop_size, 3)), 0, 1)\n",
    "    is_targeted = target_label is not None\n",
    "    label = target_label if is_targeted else true_label\n",
    "    fitness = evaluate(candidates, img, label, model)\n",
    "    \n",
    "    def is_success():\n",
    "        return (is_targeted and fitness.max() > 0.5) or ((not is_targeted) and fitness.min() < 0.05)\n",
    "    \n",
    "    for iteration in range(iters):\n",
    "        # Early Stopping\n",
    "        if is_success():\n",
    "            break\n",
    "        if verbose and iteration%10 == 0: # Print progress\n",
    "            print(\"Target Probability [Iteration {}]:\".format(iteration), fitness.max() if is_targeted else fitness.min())\n",
    "        # Generate new candidate solutions\n",
    "        new_gen_candidates = evolve(candidates, strategy=\"resample\")\n",
    "        # Evaluate new solutions\n",
    "        new_gen_fitness = evaluate(new_gen_candidates, img, label, model)\n",
    "        # Replace old solutions with new ones where they are better\n",
    "        successors = new_gen_fitness > fitness if is_targeted else new_gen_fitness < fitness\n",
    "        candidates[successors] = new_gen_candidates[successors]\n",
    "        fitness[successors] = new_gen_fitness[successors]\n",
    "    best_idx = fitness.argmax() if is_targeted else fitness.argmin()\n",
    "    best_solution = candidates[best_idx]\n",
    "    best_score = fitness[best_idx]\n",
    "    if verbose:\n",
    "        visualize_perturbation(best_solution, img, true_label, model, target_label)\n",
    "    return is_success(), best_solution, best_score\n",
    "\n",
    "# Untargeted attack\n",
    "_ = attack(cifar_model, test_img, test_label)"
   ]
  },
  {
   "cell_type": "code",
   "execution_count": 13,
   "metadata": {},
   "outputs": [
    {
     "name": "stdout",
     "output_type": "stream",
     "text": [
      "airplane 0 False 0.32803890109062195\n",
      "automobile 1 False 0.0009910481749102473\n",
      "bird 2 True 0.6859549880027771\n",
      "cat 3 False 0.29684844613075256\n",
      "deer 4 True Label\n",
      "dog 5 True 0.5693042874336243\n",
      "frog 6 False 0.031753744930028915\n",
      "horse 7 True 0.5078780651092529\n",
      "ship 8 False 0.04404550418257713\n",
      "truck 9 False 0.009699688293039799\n"
     ]
    }
   ],
   "source": [
    "# Targeted attack\n",
    "# This is much harder/costlier than an untargeted attack\n",
    "# For time reasons, targeted attacks below use 20 iterations\n",
    "targeted_results = {}\n",
    "for idx in range(len(CIFAR_LABELS)):\n",
    "    if idx != test_label:\n",
    "        targeted_results[idx] = attack(cifar_model, test_img, test_label, target_label=idx, iters=20, verbose=False)\n",
    "        print(CIFAR_LABELS[idx], idx, targeted_results[idx][0], targeted_results[idx][2])\n",
    "    else:\n",
    "        print(CIFAR_LABELS[idx], idx, \"True Label\")"
   ]
  },
  {
   "cell_type": "code",
   "execution_count": 14,
   "metadata": {},
   "outputs": [
    {
     "name": "stdout",
     "output_type": "stream",
     "text": [
      "last updated: Mon Jun 18 2018 \n",
      "\n",
      "CPython 3.6.5\n",
      "IPython 6.4.0\n",
      "\n",
      "torch 0.4.0\n",
      "numpy 1.14.3\n",
      "matplotlib 2.2.2\n",
      "tensorboardX n\u0007\n",
      "torchvision 0.2.1\n",
      "seaborn 0.8.1\n",
      "tqdm 4.23.4\n",
      "\n",
      "compiler   : GCC 4.8.2 20140120 (Red Hat 4.8.2-15)\n",
      "system     : Linux\n",
      "release    : 4.13.0-1019-gcp\n",
      "machine    : x86_64\n",
      "processor  : x86_64\n",
      "CPU cores  : 8\n",
      "interpreter: 64bit\n",
      "watermark 1.6.1\n"
     ]
    }
   ],
   "source": [
    "%load_ext watermark\n",
    "%watermark --updated --datename --python --machine --watermark -p torch,numpy,matplotlib,tensorboardX,torchvision,seaborn,tqdm"
   ]
  }
 ],
 "metadata": {
  "kernelspec": {
   "display_name": "Python 3",
   "language": "python",
   "name": "python3"
  },
  "language_info": {
   "codemirror_mode": {
    "name": "ipython",
    "version": 3
   },
   "file_extension": ".py",
   "mimetype": "text/x-python",
   "name": "python",
   "nbconvert_exporter": "python",
   "pygments_lexer": "ipython3",
   "version": "3.6.5"
  }
 },
 "nbformat": 4,
 "nbformat_minor": 2
}
