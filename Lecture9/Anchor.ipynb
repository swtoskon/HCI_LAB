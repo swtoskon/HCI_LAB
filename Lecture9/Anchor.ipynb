{
  "cells": [
    {
      "cell_type": "code",
      "execution_count": null,
      "metadata": {
        "id": "SNCty-drg0bZ"
      },
      "outputs": [],
      "source": [
        "from __future__ import print_function\n",
        "import numpy as np\n",
        "np.random.seed(1)\n",
        "import sys\n",
        "import sklearn\n",
        "import sklearn.ensemble\n",
        "%load_ext autoreload\n",
        "%autoreload 2\n",
        "from anchor import utils\n",
        "from anchor import anchor_tabular"
      ]
    },
    {
      "cell_type": "markdown",
      "metadata": {
        "id": "YRMdfjJ6g0bi"
      },
      "source": [
        "### Loading the dataset\n",
        "This dataset is about predicting if a person makes more or less than 50,000 dollars"
      ]
    },
    {
      "cell_type": "code",
      "execution_count": null,
      "metadata": {
        "id": "adAoKDWjg0bu"
      },
      "outputs": [],
      "source": [
        "# make sure you have adult/adult.data inside dataset_folder\n",
        "dataset_folder = '/home/marcotcr/datasets/'\n",
        "dataset = utils.load_dataset('adult', balance=True, dataset_folder=dataset_folder, discretize=True)"
      ]
    },
    {
      "cell_type": "markdown",
      "metadata": {
        "id": "NrFxBdB8g0bx"
      },
      "source": [
        "Let's train a classifier for this"
      ]
    },
    {
      "cell_type": "code",
      "execution_count": null,
      "metadata": {
        "id": "4qgdABxyg0cB",
        "outputId": "a256365e-28c5-4508-8c95-84b76e07f6cb"
      },
      "outputs": [
        {
          "name": "stdout",
          "output_type": "stream",
          "text": [
            "Train 0.9350338780390594\n",
            "Test 0.8489483747609943\n"
          ]
        }
      ],
      "source": [
        "c = sklearn.ensemble.RandomForestClassifier(n_estimators=50, n_jobs=5)\n",
        "c.fit(dataset.train, dataset.labels_train)\n",
        "print('Train', sklearn.metrics.accuracy_score(dataset.labels_train, c.predict(dataset.train)))\n",
        "print('Test', sklearn.metrics.accuracy_score(dataset.labels_test, c.predict(dataset.test)))"
      ]
    },
    {
      "cell_type": "markdown",
      "metadata": {
        "id": "h8EycMBYg0cF"
      },
      "source": [
        "### Getting an anchor"
      ]
    },
    {
      "cell_type": "markdown",
      "metadata": {
        "id": "dVyGA6Cag0cP"
      },
      "source": [
        "Now let's start the explainer. We need the training data to perturb instances.\n",
        "`categorical_names` is a map from integer to list of strings, containing names for each\n",
        "            value of the categorical features. Every feature that is not in\n",
        "            this map will be considered as ordinal or continuous, and thus discretized.\n"
      ]
    },
    {
      "cell_type": "code",
      "execution_count": null,
      "metadata": {
        "id": "RASFF77Ng0cS"
      },
      "outputs": [],
      "source": [
        "explainer = anchor_tabular.AnchorTabularExplainer(\n",
        "    dataset.class_names,\n",
        "    dataset.feature_names,\n",
        "    dataset.train,\n",
        "    dataset.categorical_names)"
      ]
    },
    {
      "cell_type": "markdown",
      "metadata": {
        "id": "tttmiU_Rg0cb"
      },
      "source": [
        "Below, we get an anchor for prediction number 0. An anchor is a sufficient condition - that is, when the anchor holds, the prediction should be the same as the prediction for this instance."
      ]
    },
    {
      "cell_type": "code",
      "execution_count": null,
      "metadata": {
        "id": "70hIL-edg0cd",
        "outputId": "b1b14a92-2693-43f6-b515-1d59c25d4b94"
      },
      "outputs": [
        {
          "name": "stdout",
          "output_type": "stream",
          "text": [
            "Prediction:  b'>50K'\n"
          ]
        }
      ],
      "source": [
        "idx = 0\n",
        "np.random.seed(1)\n",
        "print('Prediction: ', explainer.class_names[c.predict(dataset.test[idx].reshape(1, -1))[0]])\n",
        "exp = explainer.explain_instance(dataset.test[idx], c.predict, threshold=0.95)"
      ]
    },
    {
      "cell_type": "code",
      "execution_count": null,
      "metadata": {
        "id": "6Y_uNKYWg0ce",
        "outputId": "cec0e19a-5737-470a-86dc-c4672f4c9446"
      },
      "outputs": [
        {
          "name": "stdout",
          "output_type": "stream",
          "text": [
            "Anchor: Education = Bachelors AND Relationship = Husband AND Occupation = Sales\n",
            "Precision: 0.97\n",
            "Coverage: 0.02\n"
          ]
        }
      ],
      "source": [
        "print('Anchor: %s' % (' AND '.join(exp.names())))\n",
        "print('Precision: %.2f' % exp.precision())\n",
        "print('Coverage: %.2f' % exp.coverage())"
      ]
    },
    {
      "cell_type": "markdown",
      "metadata": {
        "id": "HXCTqWSog0cg"
      },
      "source": [
        "Note that we set threshold to 0.95, so we guarantee (with high probability) that precision will be above 0.95 - that is, that predictions on instances where the anchor holds will be the same as the original prediction at least 95% of the time. Let's try it out on the test set"
      ]
    },
    {
      "cell_type": "code",
      "execution_count": null,
      "metadata": {
        "id": "_blsMuZ0g0ch",
        "outputId": "8219d3e6-3950-4c36-da07-e409e1004fd6"
      },
      "outputs": [
        {
          "name": "stdout",
          "output_type": "stream",
          "text": [
            "Anchor test precision: 0.97\n",
            "Anchor test coverage: 0.02\n"
          ]
        }
      ],
      "source": [
        "# Get test examples where the anchora pplies\n",
        "fit_anchor = np.where(np.all(dataset.test[:, exp.features()] == dataset.test[idx][exp.features()], axis=1))[0]\n",
        "print('Anchor test precision: %.2f' % (np.mean(c.predict(dataset.test[fit_anchor]) == c.predict(dataset.test[idx].reshape(1, -1)))))\n",
        "print('Anchor test coverage: %.2f' % (fit_anchor.shape[0] / float(dataset.test.shape[0])))"
      ]
    },
    {
      "cell_type": "markdown",
      "metadata": {
        "id": "U4YFMZXWg0ci"
      },
      "source": [
        "### Looking at a partial anchor\n",
        "You can look at just part of the anchor - for example, the first two clauses. Note how these do not have enough precision, which is why the explainer added a third one"
      ]
    },
    {
      "cell_type": "code",
      "execution_count": null,
      "metadata": {
        "id": "eMGDxM7Og0cj",
        "outputId": "0d08a1e0-d2da-486f-b79c-9d1494884cf5"
      },
      "outputs": [
        {
          "name": "stdout",
          "output_type": "stream",
          "text": [
            "Partial anchor: Education = Bachelors AND Relationship = Husband\n",
            "Partial precision: 0.86\n",
            "Partial coverage: 0.11\n"
          ]
        }
      ],
      "source": [
        "print('Partial anchor: %s' % (' AND '.join(exp.names(1))))\n",
        "print('Partial precision: %.2f' % exp.precision(1))\n",
        "print('Partial coverage: %.2f' % exp.coverage(1))\n"
      ]
    },
    {
      "cell_type": "code",
      "execution_count": null,
      "metadata": {
        "id": "MXMJuCrjg0cm",
        "outputId": "f9327e2f-9b76-464e-8bf5-13ae38b5e1d6"
      },
      "outputs": [
        {
          "name": "stdout",
          "output_type": "stream",
          "text": [
            "Partial anchor test precision: 0.94\n",
            "Partial anchor test coverage: 0.12\n"
          ]
        }
      ],
      "source": [
        "fit_partial = np.where(np.all(dataset.test[:, exp.features(1)] == dataset.test[idx][exp.features(1)], axis=1))[0]\n",
        "print('Partial anchor test precision: %.2f' % (np.mean(c.predict(dataset.test[fit_partial]) == c.predict(dataset.test[idx].reshape(1, -1)))))\n",
        "print('Partial anchor test coverage: %.2f' % (fit_partial.shape[0] / float(dataset.test.shape[0])))\n"
      ]
    },
    {
      "cell_type": "code",
      "execution_count": null,
      "metadata": {
        "id": "S-0Yl6vkg0c7"
      },
      "outputs": [],
      "source": []
    }
  ],
  "metadata": {
    "kernelspec": {
      "display_name": "anchor3",
      "language": "python",
      "name": "anchor3"
    },
    "language_info": {
      "codemirror_mode": {
        "name": "ipython",
        "version": 3
      },
      "file_extension": ".py",
      "mimetype": "text/x-python",
      "name": "python",
      "nbconvert_exporter": "python",
      "pygments_lexer": "ipython3",
      "version": "3.6.7"
    },
    "colab": {
      "provenance": []
    }
  },
  "nbformat": 4,
  "nbformat_minor": 0
}